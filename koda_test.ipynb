{
 "cells": [
  {
   "cell_type": "code",
   "id": "initial_id",
   "metadata": {
    "collapsed": true,
    "ExecuteTime": {
     "end_time": "2024-12-11T16:02:50.488942Z",
     "start_time": "2024-12-11T16:02:49.841403Z"
    }
   },
   "source": [
    "import koda.koda_fetch as kf\n",
    "import koda.koda_parsing as kp"
   ],
   "outputs": [],
   "execution_count": 1
  },
  {
   "metadata": {
    "ExecuteTime": {
     "end_time": "2024-12-11T16:02:51.034286Z",
     "start_time": "2024-12-11T16:02:51.030406Z"
    }
   },
   "cell_type": "code",
   "source": [
    "# Download GTFS data\n",
    "operator = \"xt\"\n",
    "date = \"2023-01-05\"\n",
    "feed_type = \"TripUpdates\"\n",
    "print(f\"Fetching GTFS static data for {operator} on {date}\")\n",
    "static_zip_path = kf.fetch_gtfs_static(operator, date)\n",
    "print(f\"Fetching GTFS realtime data for {operator} on {date}\")\n",
    "rt_zip_path = kf.fetch_gtfs_realtime(operator, feed_type, date)"
   ],
   "id": "56abfccc9dc46f6f",
   "outputs": [
    {
     "name": "stdout",
     "output_type": "stream",
     "text": [
      "Fetching GTFS static data for xt on 2023-01-05\n",
      "File already exists.\n",
      "Fetching GTFS realtime data for xt on 2023-01-05\n",
      "File already exists.\n"
     ]
    }
   ],
   "execution_count": 2
  },
  {
   "metadata": {
    "ExecuteTime": {
     "end_time": "2024-12-11T16:02:52.486557Z",
     "start_time": "2024-12-11T16:02:52.386908Z"
    }
   },
   "cell_type": "code",
   "source": [
    "# Unzip and parse GTFS data\n",
    "hour = \"12\"\n",
    "minute = \"11\"\n",
    "second = \"00\"\n",
    "\n",
    "# NOTE: The static data is in GTFS txt files in a flat folder structure\n",
    "static_folder_path = kp.unzip_data(static_zip_path)\n",
    "print(f\"Unzipped static data to {static_folder_path}\")\n",
    "\n",
    "# NOTE: The realtime data is in Protocol Buffer files in a nested folder structure\n",
    "rt_folder_path = kp.unzip_data(rt_zip_path)\n",
    "print(f\"Unzipped realtime data to {rt_folder_path}\")\n",
    "\n",
    "# TODO: Figure out how to read cumulative data from multiple files without duplicates\n",
    "df = kp.read_pb_to_dataframe(rt_folder_path, operator, feed_type, date[:4], date[5:7], date[8:], hour, minute, second)\n",
    "\n",
    "print(f\"Data for {operator} on {date} at {hour}:{minute}:{second}\")\n",
    "print(df.head())\n",
    "print(df.iloc[0])"
   ],
   "id": "cc48cb8c8c94acc0",
   "outputs": [
    {
     "name": "stdout",
     "output_type": "stream",
     "text": [
      "Unzipping ./dev_data/koda_download/xt-gtfs-static-2023-01-05.7z\n",
      "File already unzipped.\n",
      "Unzipped static data to ./dev_data/koda_data\\xt-gtfs-static-2023-01-05\n",
      "Unzipping ./dev_data/koda_download/xt-gtfs-realtime-2023-01-05.7z\n",
      "File already unzipped.\n",
      "Unzipped realtime data to ./dev_data/koda_data\\xt-gtfs-realtime-2023-01-05\n",
      "Data for xt on 2023-01-05 at 12:11:00\n",
      "                   id tripUpdate_trip_tripId tripUpdate_trip_startDate  \\\n",
      "0  217990500819585594     217990000029717940                  20230105   \n",
      "1  217990500824825347     217990000029118619                  20230105   \n",
      "2  217990500824817629     217990000029112087                  20230105   \n",
      "3  217990500822092765     217990000029733947                  20230105   \n",
      "4  217990500816130965     217990000029699008                  20230105   \n",
      "\n",
      "  tripUpdate_trip_scheduleRelationship  \\\n",
      "0                            SCHEDULED   \n",
      "1                            SCHEDULED   \n",
      "2                            SCHEDULED   \n",
      "3                            SCHEDULED   \n",
      "4                            SCHEDULED   \n",
      "\n",
      "                           tripUpdate_stopTimeUpdate tripUpdate_timestamp  \\\n",
      "0  [{'stopSequence': 10, 'arrival': {'delay': 26,...           1672916610   \n",
      "1  [{'stopSequence': 89, 'arrival': {'delay': 129...           1672917039   \n",
      "2  [{'stopSequence': 87, 'arrival': {'delay': 196...           1672917017   \n",
      "3  [{'stopSequence': 24, 'arrival': {'delay': 154...           1672916584   \n",
      "4  [{'stopSequence': 45, 'arrival': {'delay': -25...           1672916965   \n",
      "\n",
      "  tripUpdate_vehicle_id  \n",
      "0                   NaN  \n",
      "1      9031021000444431  \n",
      "2      9031021000444427  \n",
      "3      9031021000441701  \n",
      "4      9031021001241752  \n",
      "id                                                                     217990500819585594\n",
      "tripUpdate_trip_tripId                                                 217990000029717940\n",
      "tripUpdate_trip_startDate                                                        20230105\n",
      "tripUpdate_trip_scheduleRelationship                                            SCHEDULED\n",
      "tripUpdate_stopTimeUpdate               [{'stopSequence': 10, 'arrival': {'delay': 26,...\n",
      "tripUpdate_timestamp                                                           1672916610\n",
      "tripUpdate_vehicle_id                                                                 NaN\n",
      "Name: 0, dtype: object\n"
     ]
    }
   ],
   "execution_count": 3
  }
 ],
 "metadata": {
  "kernelspec": {
   "display_name": "Python 3",
   "language": "python",
   "name": "python3"
  },
  "language_info": {
   "codemirror_mode": {
    "name": "ipython",
    "version": 2
   },
   "file_extension": ".py",
   "mimetype": "text/x-python",
   "name": "python",
   "nbconvert_exporter": "python",
   "pygments_lexer": "ipython2",
   "version": "2.7.6"
  }
 },
 "nbformat": 4,
 "nbformat_minor": 5
}
