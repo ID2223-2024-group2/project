{
 "cells": [
  {
   "metadata": {},
   "cell_type": "code",
   "outputs": [],
   "execution_count": null,
   "source": [
    "from datetime import datetime\n",
    "import pandas as pd\n",
    "\n",
    "from shared.constants import GAEVLE_LONGITUDE, GAEVLE_LATITUDE, OperatorsWithRT\n",
    "from shared.file_logger import setup_logger\n",
    "import weather.fetch as wf\n",
    "import weather.parse as wp\n",
    "import gtfs_regional.pipeline as gp\n",
    "import shared.features as sf\n",
    "import koda.koda_transform as kt\n",
    "\n",
    "pd.options.mode.copy_on_write = True\n",
    "\n",
    "OPERATOR = OperatorsWithRT.X_TRAFIK\n",
    "today = datetime.now().strftime(\"%Y-%m-%d\")"
   ],
   "id": "235949fec9110e71"
  },
  {
   "metadata": {},
   "cell_type": "code",
   "outputs": [],
   "execution_count": null,
   "source": [
    "rt_df, map_df = gp.get_gtfr_data_for_day(today, OPERATOR)\n",
    "\n",
    "rt_df"
   ],
   "id": "d3110ae750220d7f"
  },
  {
   "metadata": {},
   "cell_type": "code",
   "outputs": [],
   "execution_count": null,
   "source": [
    "columns_to_keep = [\n",
    "    \"trip_id\", \"start_date\", \"timestamp\",\n",
    "    \"vehicle_id\", \"stop_sequence\", \"stop_id\", \"arrival_delay\",\n",
    "    \"arrival_time\", \"departure_delay\", \"departure_time\"\n",
    "]\n",
    "rt_df = rt_df[columns_to_keep]\n",
    "rt_df = kt.keep_only_latest_stop_updates(rt_df)\n",
    "\n",
    "# Merge with map_df to get route_type\n",
    "rt_df = rt_df.merge(map_df, on='trip_id', how='inner')\n",
    "\n",
    "# Set up arrival_time as our index and main datetime column\n",
    "rt_df = rt_df.dropna(subset=['arrival_time'])  # Drop rows with missing arrival_time\n",
    "rt_df['arrival_time'] = rt_df['arrival_time'].astype(int)\n",
    "rt_df['arrival_time'] = pd.to_datetime(rt_df['arrival_time'], unit='s')\n",
    "rt_df.sort_values(by='arrival_time', inplace=True)\n",
    "rt_df.set_index('arrival_time', inplace=True)\n",
    "\n",
    "rt_df"
   ],
   "id": "951e0bbaf3bc5121"
  },
  {
   "metadata": {},
   "cell_type": "code",
   "outputs": [],
   "execution_count": null,
   "source": [
    "# Count unique trip_id\n",
    "print(rt_df['trip_id'].nunique())\n",
    "\n",
    "# Count unique route_id\n",
    "print(rt_df['route_id'].nunique())\n",
    "\n",
    "# Get max and min arrival_time\n",
    "print(rt_df.index.max())\n",
    "print(rt_df.index.min())"
   ],
   "id": "3f744f16f0fe0627"
  },
  {
   "metadata": {},
   "cell_type": "code",
   "outputs": [],
   "execution_count": null,
   "source": [
    "final_metrics = sf.build_feature_group(rt_df, map_df)\n",
    "final_metrics"
   ],
   "id": "ea99bb0047ea9e25"
  }
 ],
 "metadata": {},
 "nbformat": 5,
 "nbformat_minor": 9
}
