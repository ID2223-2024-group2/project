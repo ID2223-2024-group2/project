{
 "cells": [
  {
   "cell_type": "markdown",
   "source": [
    "# Open-Meteo Weather Data\n",
    "\n",
    "This notebook downloads all historical weather data for Gävle."
   ],
   "metadata": {
    "collapsed": false
   }
  },
  {
   "cell_type": "code",
   "execution_count": 1,
   "outputs": [
    {
     "name": "stderr",
     "output_type": "stream",
     "text": [
      "/Users/ph/Programming/KTH/ID2223Project/venv/lib/python3.9/site-packages/urllib3/__init__.py:35: NotOpenSSLWarning: urllib3 v2 only supports OpenSSL 1.1.1+, currently the 'ssl' module is compiled with 'LibreSSL 2.8.3'. See: https://github.com/urllib3/urllib3/issues/3020\n",
      "  warnings.warn(\n"
     ]
    }
   ],
   "source": [
    "import datetime\n",
    "import feature_store as fs\n",
    "import os\n",
    "import openmeteo_requests\n",
    "import pandas as pd"
   ],
   "metadata": {
    "collapsed": false
   }
  },
  {
   "cell_type": "code",
   "execution_count": 2,
   "outputs": [],
   "source": [
    "# Note: currently not needed.\n",
    "om_key = open(\".openmeteo_key\", \"r\").read().strip()"
   ],
   "metadata": {
    "collapsed": false
   }
  },
  {
   "cell_type": "code",
   "execution_count": 3,
   "outputs": [],
   "source": [
    "genesis = \"2023-01-04\"\n",
    "today_dt = datetime.datetime.today()\n",
    "today = today_dt.strftime(\"%Y-%m-%d\")\n",
    "\n",
    "longitude = 60.6749\n",
    "latitude = 17.1413\n",
    "dl_dir = os.path.join(\"dev_data\", \"openmeteo_download\")"
   ],
   "metadata": {
    "collapsed": false
   }
  },
  {
   "cell_type": "code",
   "execution_count": 4,
   "outputs": [],
   "source": [
    "om_client = openmeteo_requests.Client()"
   ],
   "metadata": {
    "collapsed": false
   }
  },
  {
   "cell_type": "code",
   "execution_count": 5,
   "outputs": [],
   "source": [
    "url = \"https://archive-api.open-meteo.com/v1/archive\"\n",
    "params = {\n",
    "\t\"latitude\": longitude,\n",
    "\t\"longitude\": latitude,\n",
    "\t\"start_date\": genesis,\n",
    "\t\"end_date\": today,\n",
    "\t\"hourly\": [\"temperature_2m\", \"apparent_temperature\", \"precipitation\", \"rain\", \"snowfall\", \"snow_depth\", \"cloud_cover\", \"wind_speed_10m\", \"wind_speed_100m\", \"wind_gusts_10m\"]\n",
    "}\n",
    "responses = om_client.weather_api(url, params=params)"
   ],
   "metadata": {
    "collapsed": false
   }
  },
  {
   "cell_type": "code",
   "execution_count": 6,
   "outputs": [
    {
     "data": {
      "text/plain": "[<openmeteo_sdk.WeatherApiResponse.WeatherApiResponse at 0x1294b41f0>]"
     },
     "execution_count": 6,
     "metadata": {},
     "output_type": "execute_result"
    }
   ],
   "source": [
    "responses"
   ],
   "metadata": {
    "collapsed": false
   }
  },
  {
   "cell_type": "code",
   "execution_count": 7,
   "outputs": [
    {
     "name": "stdout",
     "output_type": "stream",
     "text": [
      "Coordinates 60.70298767089844°N 17.10213851928711°E\n",
      "Elevation 17.0 m asl\n",
      "Timezone None None\n",
      "Timezone difference to GMT+0 0 s\n"
     ]
    }
   ],
   "source": [
    "response = responses[0]\n",
    "print(f\"Coordinates {response.Latitude()}°N {response.Longitude()}°E\")\n",
    "print(f\"Elevation {response.Elevation()} m asl\")\n",
    "print(f\"Timezone {response.Timezone()} {response.TimezoneAbbreviation()}\")\n",
    "print(f\"Timezone difference to GMT+0 {response.UtcOffsetSeconds()} s\")"
   ],
   "metadata": {
    "collapsed": false
   }
  },
  {
   "cell_type": "code",
   "execution_count": 8,
   "outputs": [],
   "source": [
    "hourly = response.Hourly()\n",
    "hourly_temperature_2m = hourly.Variables(0).ValuesAsNumpy()\n",
    "hourly_apparent_temperature = hourly.Variables(1).ValuesAsNumpy()\n",
    "hourly_precipitation = hourly.Variables(2).ValuesAsNumpy()\n",
    "hourly_rain = hourly.Variables(3).ValuesAsNumpy()\n",
    "hourly_snowfall = hourly.Variables(4).ValuesAsNumpy()\n",
    "hourly_snow_depth = hourly.Variables(5).ValuesAsNumpy()\n",
    "hourly_cloud_cover = hourly.Variables(6).ValuesAsNumpy()\n",
    "hourly_wind_speed_10m = hourly.Variables(7).ValuesAsNumpy()\n",
    "hourly_wind_speed_100m = hourly.Variables(8).ValuesAsNumpy()\n",
    "hourly_wind_gusts_10m = hourly.Variables(9).ValuesAsNumpy()\n",
    "\n",
    "hourly_data = {\"date\": pd.date_range(\n",
    "\tstart = pd.to_datetime(hourly.Time(), unit = \"s\", utc = True),\n",
    "\tend = pd.to_datetime(hourly.TimeEnd(), unit = \"s\", utc = True),\n",
    "\tfreq = pd.Timedelta(seconds = hourly.Interval()),\n",
    "\tinclusive = \"left\"\n",
    ")}\n",
    "hourly_data[\"temperature_2m\"] = hourly_temperature_2m\n",
    "hourly_data[\"apparent_temperature\"] = hourly_apparent_temperature\n",
    "hourly_data[\"precipitation\"] = hourly_precipitation\n",
    "hourly_data[\"rain\"] = hourly_rain\n",
    "hourly_data[\"snowfall\"] = hourly_snowfall\n",
    "hourly_data[\"snow_depth\"] = hourly_snow_depth\n",
    "hourly_data[\"cloud_cover\"] = hourly_cloud_cover\n",
    "hourly_data[\"wind_speed_10m\"] = hourly_wind_speed_10m\n",
    "hourly_data[\"wind_speed_100m\"] = hourly_wind_speed_100m\n",
    "hourly_data[\"wind_gusts_10m\"] = hourly_wind_gusts_10m\n",
    "\n",
    "hourly_dataframe = pd.DataFrame(data = hourly_data)\n",
    "hourly_dataframe.dropna(inplace=True)\n",
    "fs.upsert_weather(hourly_dataframe)"
   ],
   "metadata": {
    "collapsed": false
   }
  },
  {
   "cell_type": "code",
   "execution_count": 9,
   "outputs": [
    {
     "data": {
      "text/plain": "                           date  temperature_2m  apparent_temperature  \\\n0     2023-01-04 00:00:00+00:00      -12.289499            -17.435226   \n1     2023-01-04 01:00:00+00:00       -9.039499            -13.314471   \n2     2023-01-04 02:00:00+00:00       -9.289499            -13.634878   \n3     2023-01-04 03:00:00+00:00       -9.239500            -13.778955   \n4     2023-01-04 04:00:00+00:00       -8.489500            -13.140070   \n...                         ...             ...                   ...   \n16795 2024-12-03 19:00:00+00:00       -4.889500             -9.184601   \n16796 2024-12-03 20:00:00+00:00       -5.089500             -9.354580   \n16797 2024-12-03 21:00:00+00:00       -5.139500             -9.408211   \n16798 2024-12-03 22:00:00+00:00       -5.589500             -9.695892   \n16799 2024-12-03 23:00:00+00:00       -6.239500            -10.312283   \n\n       precipitation  rain  snowfall  snow_depth  cloud_cover  wind_speed_10m  \\\n0                0.0   0.0       0.0        0.07          0.0       11.298495   \n1                0.0   0.0       0.0        0.07          0.0        6.763786   \n2                0.0   0.0       0.0        0.07          0.0        7.091177   \n3                0.0   0.0       0.0        0.07          0.0        8.396570   \n4                0.0   0.0       0.0        0.07         68.0        9.605998   \n...              ...   ...       ...         ...          ...             ...   \n16795            0.0   0.0       0.0        0.03          0.0        8.274128   \n16796            0.0   0.0       0.0        0.03          0.0        8.067936   \n16797            0.0   0.0       0.0        0.03          0.0        8.217153   \n16798            0.0   0.0       0.0        0.03          0.0        6.948093   \n16799            0.0   0.0       0.0        0.03          0.0        6.384293   \n\n       wind_speed_100m  wind_gusts_10m  \n0            15.294703       13.679999  \n1            14.799459       13.320000  \n2            14.345898       11.159999  \n3            17.280001       12.599999  \n4            19.652176       16.559999  \n...                ...             ...  \n16795        21.392754       17.639999  \n16796        20.215368       15.119999  \n16797        18.892282       15.480000  \n16798        18.130030       15.119999  \n16799        17.085783       12.599999  \n\n[16296 rows x 11 columns]",
      "text/html": "<div>\n<style scoped>\n    .dataframe tbody tr th:only-of-type {\n        vertical-align: middle;\n    }\n\n    .dataframe tbody tr th {\n        vertical-align: top;\n    }\n\n    .dataframe thead th {\n        text-align: right;\n    }\n</style>\n<table border=\"1\" class=\"dataframe\">\n  <thead>\n    <tr style=\"text-align: right;\">\n      <th></th>\n      <th>date</th>\n      <th>temperature_2m</th>\n      <th>apparent_temperature</th>\n      <th>precipitation</th>\n      <th>rain</th>\n      <th>snowfall</th>\n      <th>snow_depth</th>\n      <th>cloud_cover</th>\n      <th>wind_speed_10m</th>\n      <th>wind_speed_100m</th>\n      <th>wind_gusts_10m</th>\n    </tr>\n  </thead>\n  <tbody>\n    <tr>\n      <th>0</th>\n      <td>2023-01-04 00:00:00+00:00</td>\n      <td>-12.289499</td>\n      <td>-17.435226</td>\n      <td>0.0</td>\n      <td>0.0</td>\n      <td>0.0</td>\n      <td>0.07</td>\n      <td>0.0</td>\n      <td>11.298495</td>\n      <td>15.294703</td>\n      <td>13.679999</td>\n    </tr>\n    <tr>\n      <th>1</th>\n      <td>2023-01-04 01:00:00+00:00</td>\n      <td>-9.039499</td>\n      <td>-13.314471</td>\n      <td>0.0</td>\n      <td>0.0</td>\n      <td>0.0</td>\n      <td>0.07</td>\n      <td>0.0</td>\n      <td>6.763786</td>\n      <td>14.799459</td>\n      <td>13.320000</td>\n    </tr>\n    <tr>\n      <th>2</th>\n      <td>2023-01-04 02:00:00+00:00</td>\n      <td>-9.289499</td>\n      <td>-13.634878</td>\n      <td>0.0</td>\n      <td>0.0</td>\n      <td>0.0</td>\n      <td>0.07</td>\n      <td>0.0</td>\n      <td>7.091177</td>\n      <td>14.345898</td>\n      <td>11.159999</td>\n    </tr>\n    <tr>\n      <th>3</th>\n      <td>2023-01-04 03:00:00+00:00</td>\n      <td>-9.239500</td>\n      <td>-13.778955</td>\n      <td>0.0</td>\n      <td>0.0</td>\n      <td>0.0</td>\n      <td>0.07</td>\n      <td>0.0</td>\n      <td>8.396570</td>\n      <td>17.280001</td>\n      <td>12.599999</td>\n    </tr>\n    <tr>\n      <th>4</th>\n      <td>2023-01-04 04:00:00+00:00</td>\n      <td>-8.489500</td>\n      <td>-13.140070</td>\n      <td>0.0</td>\n      <td>0.0</td>\n      <td>0.0</td>\n      <td>0.07</td>\n      <td>68.0</td>\n      <td>9.605998</td>\n      <td>19.652176</td>\n      <td>16.559999</td>\n    </tr>\n    <tr>\n      <th>...</th>\n      <td>...</td>\n      <td>...</td>\n      <td>...</td>\n      <td>...</td>\n      <td>...</td>\n      <td>...</td>\n      <td>...</td>\n      <td>...</td>\n      <td>...</td>\n      <td>...</td>\n      <td>...</td>\n    </tr>\n    <tr>\n      <th>16795</th>\n      <td>2024-12-03 19:00:00+00:00</td>\n      <td>-4.889500</td>\n      <td>-9.184601</td>\n      <td>0.0</td>\n      <td>0.0</td>\n      <td>0.0</td>\n      <td>0.03</td>\n      <td>0.0</td>\n      <td>8.274128</td>\n      <td>21.392754</td>\n      <td>17.639999</td>\n    </tr>\n    <tr>\n      <th>16796</th>\n      <td>2024-12-03 20:00:00+00:00</td>\n      <td>-5.089500</td>\n      <td>-9.354580</td>\n      <td>0.0</td>\n      <td>0.0</td>\n      <td>0.0</td>\n      <td>0.03</td>\n      <td>0.0</td>\n      <td>8.067936</td>\n      <td>20.215368</td>\n      <td>15.119999</td>\n    </tr>\n    <tr>\n      <th>16797</th>\n      <td>2024-12-03 21:00:00+00:00</td>\n      <td>-5.139500</td>\n      <td>-9.408211</td>\n      <td>0.0</td>\n      <td>0.0</td>\n      <td>0.0</td>\n      <td>0.03</td>\n      <td>0.0</td>\n      <td>8.217153</td>\n      <td>18.892282</td>\n      <td>15.480000</td>\n    </tr>\n    <tr>\n      <th>16798</th>\n      <td>2024-12-03 22:00:00+00:00</td>\n      <td>-5.589500</td>\n      <td>-9.695892</td>\n      <td>0.0</td>\n      <td>0.0</td>\n      <td>0.0</td>\n      <td>0.03</td>\n      <td>0.0</td>\n      <td>6.948093</td>\n      <td>18.130030</td>\n      <td>15.119999</td>\n    </tr>\n    <tr>\n      <th>16799</th>\n      <td>2024-12-03 23:00:00+00:00</td>\n      <td>-6.239500</td>\n      <td>-10.312283</td>\n      <td>0.0</td>\n      <td>0.0</td>\n      <td>0.0</td>\n      <td>0.03</td>\n      <td>0.0</td>\n      <td>6.384293</td>\n      <td>17.085783</td>\n      <td>12.599999</td>\n    </tr>\n  </tbody>\n</table>\n<p>16296 rows × 11 columns</p>\n</div>"
     },
     "execution_count": 9,
     "metadata": {},
     "output_type": "execute_result"
    }
   ],
   "source": [
    "fs.load_weather()"
   ],
   "metadata": {
    "collapsed": false
   }
  },
  {
   "cell_type": "code",
   "execution_count": 9,
   "outputs": [],
   "source": [],
   "metadata": {
    "collapsed": false
   }
  }
 ],
 "metadata": {
  "kernelspec": {
   "display_name": "Python 3",
   "language": "python",
   "name": "python3"
  },
  "language_info": {
   "codemirror_mode": {
    "name": "ipython",
    "version": 2
   },
   "file_extension": ".py",
   "mimetype": "text/x-python",
   "name": "python",
   "nbconvert_exporter": "python",
   "pygments_lexer": "ipython2",
   "version": "2.7.6"
  }
 },
 "nbformat": 4,
 "nbformat_minor": 0
}
