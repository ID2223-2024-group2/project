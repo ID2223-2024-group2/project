{
 "cells": [
  {
   "cell_type": "code",
   "id": "initial_id",
   "metadata": {
    "collapsed": true,
    "ExecuteTime": {
     "end_time": "2024-12-17T20:31:40.908652Z",
     "start_time": "2024-12-17T20:31:37.074910Z"
    }
   },
   "source": [
    "import os\n",
    "import hopsworks\n",
    "\n",
    "if os.environ.get(\"HOPSWORKS_API_KEY\") is None:\n",
    "    os.environ[\"HOPSWORKS_API_KEY\"] = open(\".hw_key\").read()\n",
    "\n",
    "project = hopsworks.login()\n",
    "fs = project.get_feature_store()"
   ],
   "outputs": [
    {
     "name": "stdout",
     "output_type": "stream",
     "text": [
      "2024-12-17 21:31:38,237 INFO: Initializing external client\n",
      "2024-12-17 21:31:38,238 INFO: Base URL: https://c.app.hopsworks.ai:443\n",
      "2024-12-17 21:31:39,620 INFO: Python Engine initialized.\n",
      "\n",
      "Logged in to project, explore it here https://c.app.hopsworks.ai:443/p/1157271\n"
     ]
    }
   ],
   "execution_count": 1
  },
  {
   "metadata": {},
   "cell_type": "markdown",
   "source": [
    "## Feature View Prep"
   ],
   "id": "749aef24d5e56cde"
  },
  {
   "metadata": {
    "ExecuteTime": {
     "end_time": "2024-12-17T20:31:44.218249Z",
     "start_time": "2024-12-17T20:31:43.292252Z"
    }
   },
   "cell_type": "code",
   "source": [
    "delays_fg = fs.get_feature_group(\n",
    "    name='delays',\n",
    "    version=6,\n",
    ")\n",
    "weather_fg = fs.get_feature_group(\n",
    "    name='weather',\n",
    "    version=2,\n",
    ")"
   ],
   "id": "dc94bb8ad3ad0a93",
   "outputs": [],
   "execution_count": 2
  },
  {
   "metadata": {
    "ExecuteTime": {
     "end_time": "2024-12-17T20:32:02.357576200Z",
     "start_time": "2024-12-17T20:31:45.738838Z"
    }
   },
   "cell_type": "code",
   "source": [
    "# Join delays and weather feature groups on arrival_time_bin and date respectively\n",
    "selected_features = delays_fg.select_all().join(\n",
    "    weather_fg.select_all(),\n",
    "    left_on=['arrival_time_bin'],\n",
    "    right_on=['date'],\n",
    "    join_type='inner'\n",
    ")\n",
    "# Exclude rows with no delays\n",
    "selected_features = selected_features.filter(selected_features['stop_count'] > 0)\n",
    "selected_features.show(10)"
   ],
   "id": "3df14e02514e5cdc",
   "outputs": [
    {
     "name": "stdout",
     "output_type": "stream",
     "text": [
      "Reading data from Hopsworks, using Hopsworks Feature Query Service..   \rReading data from Hopsworks, using Hopsworks Feature Query Service.   Reading data from Hopsworks, using Hopsworks Feature Query Service...   Reading data from Hopsworks, using Hopsworks Feature Query Service.   Reading data from Hopsworks, using Hopsworks Feature Query Service...   Reading data from Hopsworks, using Hopsworks Feature Query Service.   Reading data from Hopsworks, using Hopsworks Feature Query Service...   \r"
     ]
    }
   ],
   "execution_count": null
  },
  {
   "metadata": {},
   "cell_type": "code",
   "outputs": [],
   "execution_count": null,
   "source": [
    "labels = ['mean_delay_change_seconds', 'max_delay_change_seconds', 'min_delay_change_seconds',\n",
    "                         'var_delay_change_seconds',\n",
    "                         'mean_arrival_delay_seconds', 'max_arrival_delay_seconds', 'min_arrival_delay_seconds',\n",
    "                         'var_arrival_delay',\n",
    "                         'mean_departure_delay_seconds', 'max_departure_delay_seconds',\n",
    "                         'min_departure_delay_seconds', 'var_departure_delay',\n",
    "                         'mean_on_time_percent', 'mean_final_stop_delay_seconds']\n",
    "feature_view = fs.get_or_create_feature_view(\n",
    "    name='delays_fv',\n",
    "    description=\"weather features with delays as the target\",\n",
    "    version=4,\n",
    "    labels=labels,\n",
    "    query=selected_features,\n",
    ")"
   ],
   "id": "6252fd2dab5d5bbf"
  },
  {
   "metadata": {},
   "cell_type": "markdown",
   "source": [
    "## Data Split"
   ],
   "id": "b2aab22ca2b15fa6"
  },
  {
   "metadata": {
    "ExecuteTime": {
     "end_time": "2024-12-17T12:07:54.756219Z",
     "start_time": "2024-12-17T12:07:54.509449Z"
    }
   },
   "cell_type": "code",
   "source": [
    "feature_view = fs.get_feature_view(name='delays_fv', version=3)\n",
    "\n",
    "# start_date_test_data = \"2024-12-01\"\n",
    "# test_start = datetime.strptime(start_date_test_data, \"%Y-%m-%d\")\n",
    "X_train, X_test, y_train, y_test = feature_view.train_test_split(test_size=0.2) # TODO: Use test_start instead of random split\n",
    "X_train"
   ],
   "id": "4fb29f2342fa1f5b",
   "outputs": [
    {
     "ename": "NameError",
     "evalue": "name 'fs' is not defined",
     "output_type": "error",
     "traceback": [
      "\u001B[1;31m---------------------------------------------------------------------------\u001B[0m",
      "\u001B[1;31mNameError\u001B[0m                                 Traceback (most recent call last)",
      "Cell \u001B[1;32mIn[1], line 1\u001B[0m\n\u001B[1;32m----> 1\u001B[0m feature_view \u001B[38;5;241m=\u001B[39m \u001B[43mfs\u001B[49m\u001B[38;5;241m.\u001B[39mget_feature_view(name\u001B[38;5;241m=\u001B[39m\u001B[38;5;124m'\u001B[39m\u001B[38;5;124mdelays_fv\u001B[39m\u001B[38;5;124m'\u001B[39m, version\u001B[38;5;241m=\u001B[39m\u001B[38;5;241m3\u001B[39m)\n\u001B[0;32m      3\u001B[0m \u001B[38;5;66;03m# start_date_test_data = \"2024-12-01\"\u001B[39;00m\n\u001B[0;32m      4\u001B[0m \u001B[38;5;66;03m# test_start = datetime.strptime(start_date_test_data, \"%Y-%m-%d\")\u001B[39;00m\n\u001B[0;32m      5\u001B[0m X_train, X_test, y_train, y_test \u001B[38;5;241m=\u001B[39m feature_view\u001B[38;5;241m.\u001B[39mtrain_test_split(test_size\u001B[38;5;241m=\u001B[39m\u001B[38;5;241m0.2\u001B[39m) \u001B[38;5;66;03m# TODO: Use test_start instead of random split\u001B[39;00m\n",
      "\u001B[1;31mNameError\u001B[0m: name 'fs' is not defined"
     ]
    }
   ],
   "execution_count": 1
  },
  {
   "metadata": {
    "ExecuteTime": {
     "end_time": "2024-12-17T11:13:48.824334Z",
     "start_time": "2024-12-17T11:13:48.820943Z"
    }
   },
   "cell_type": "code",
   "source": [
    "train_features = X_train.drop(['date', 'arrival_time_bin'], axis=1)\n",
    "test_features = X_test.drop(['date', 'arrival_time_bin'], axis=1)"
   ],
   "id": "55d434bf9728a4e7",
   "outputs": [],
   "execution_count": 8
  },
  {
   "metadata": {
    "ExecuteTime": {
     "end_time": "2024-12-17T11:13:51.382147Z",
     "start_time": "2024-12-17T11:13:51.375042Z"
    }
   },
   "cell_type": "code",
   "source": [
    "y_train"
   ],
   "id": "313eadaff06fb0cc",
   "outputs": [
    {
     "data": {
      "text/plain": [
       "     mean_arrival_delay_seconds  max_arrival_delay_seconds  \\\n",
       "0                    126.493798                     1623.0   \n",
       "1                     40.185331                     1900.0   \n",
       "2                    105.430142                     1178.0   \n",
       "3                    103.818072                     3046.0   \n",
       "4                     77.122595                     3594.0   \n",
       "..                          ...                        ...   \n",
       "885                   80.401747                     2627.0   \n",
       "886                   50.285333                      228.0   \n",
       "887                   60.212707                      487.0   \n",
       "888                  100.725795                     3221.0   \n",
       "889                   72.743611                     2588.0   \n",
       "\n",
       "     mean_departure_delay_seconds  max_departure_delay_seconds  \\\n",
       "0                      142.773993                       1627.0   \n",
       "1                       56.062272                       2356.0   \n",
       "2                      118.684861                       1313.0   \n",
       "3                      116.391907                       3046.0   \n",
       "4                       87.217626                       3610.0   \n",
       "..                            ...                          ...   \n",
       "885                     93.513368                       2627.0   \n",
       "886                     76.186804                        228.0   \n",
       "887                     73.025655                        487.0   \n",
       "888                    111.560271                       3221.0   \n",
       "889                     84.665252                       3197.0   \n",
       "\n",
       "     on_time_mean_percent  \n",
       "0               84.419735  \n",
       "1               88.123916  \n",
       "2               86.251931  \n",
       "3               87.704609  \n",
       "4               89.995418  \n",
       "..                    ...  \n",
       "885             90.952537  \n",
       "886             92.854376  \n",
       "887             95.500530  \n",
       "888             86.799381  \n",
       "889             88.732758  \n",
       "\n",
       "[712 rows x 5 columns]"
      ],
      "text/html": [
       "<div>\n",
       "<style scoped>\n",
       "    .dataframe tbody tr th:only-of-type {\n",
       "        vertical-align: middle;\n",
       "    }\n",
       "\n",
       "    .dataframe tbody tr th {\n",
       "        vertical-align: top;\n",
       "    }\n",
       "\n",
       "    .dataframe thead th {\n",
       "        text-align: right;\n",
       "    }\n",
       "</style>\n",
       "<table border=\"1\" class=\"dataframe\">\n",
       "  <thead>\n",
       "    <tr style=\"text-align: right;\">\n",
       "      <th></th>\n",
       "      <th>mean_arrival_delay_seconds</th>\n",
       "      <th>max_arrival_delay_seconds</th>\n",
       "      <th>mean_departure_delay_seconds</th>\n",
       "      <th>max_departure_delay_seconds</th>\n",
       "      <th>on_time_mean_percent</th>\n",
       "    </tr>\n",
       "  </thead>\n",
       "  <tbody>\n",
       "    <tr>\n",
       "      <th>0</th>\n",
       "      <td>126.493798</td>\n",
       "      <td>1623.0</td>\n",
       "      <td>142.773993</td>\n",
       "      <td>1627.0</td>\n",
       "      <td>84.419735</td>\n",
       "    </tr>\n",
       "    <tr>\n",
       "      <th>1</th>\n",
       "      <td>40.185331</td>\n",
       "      <td>1900.0</td>\n",
       "      <td>56.062272</td>\n",
       "      <td>2356.0</td>\n",
       "      <td>88.123916</td>\n",
       "    </tr>\n",
       "    <tr>\n",
       "      <th>2</th>\n",
       "      <td>105.430142</td>\n",
       "      <td>1178.0</td>\n",
       "      <td>118.684861</td>\n",
       "      <td>1313.0</td>\n",
       "      <td>86.251931</td>\n",
       "    </tr>\n",
       "    <tr>\n",
       "      <th>3</th>\n",
       "      <td>103.818072</td>\n",
       "      <td>3046.0</td>\n",
       "      <td>116.391907</td>\n",
       "      <td>3046.0</td>\n",
       "      <td>87.704609</td>\n",
       "    </tr>\n",
       "    <tr>\n",
       "      <th>4</th>\n",
       "      <td>77.122595</td>\n",
       "      <td>3594.0</td>\n",
       "      <td>87.217626</td>\n",
       "      <td>3610.0</td>\n",
       "      <td>89.995418</td>\n",
       "    </tr>\n",
       "    <tr>\n",
       "      <th>...</th>\n",
       "      <td>...</td>\n",
       "      <td>...</td>\n",
       "      <td>...</td>\n",
       "      <td>...</td>\n",
       "      <td>...</td>\n",
       "    </tr>\n",
       "    <tr>\n",
       "      <th>885</th>\n",
       "      <td>80.401747</td>\n",
       "      <td>2627.0</td>\n",
       "      <td>93.513368</td>\n",
       "      <td>2627.0</td>\n",
       "      <td>90.952537</td>\n",
       "    </tr>\n",
       "    <tr>\n",
       "      <th>886</th>\n",
       "      <td>50.285333</td>\n",
       "      <td>228.0</td>\n",
       "      <td>76.186804</td>\n",
       "      <td>228.0</td>\n",
       "      <td>92.854376</td>\n",
       "    </tr>\n",
       "    <tr>\n",
       "      <th>887</th>\n",
       "      <td>60.212707</td>\n",
       "      <td>487.0</td>\n",
       "      <td>73.025655</td>\n",
       "      <td>487.0</td>\n",
       "      <td>95.500530</td>\n",
       "    </tr>\n",
       "    <tr>\n",
       "      <th>888</th>\n",
       "      <td>100.725795</td>\n",
       "      <td>3221.0</td>\n",
       "      <td>111.560271</td>\n",
       "      <td>3221.0</td>\n",
       "      <td>86.799381</td>\n",
       "    </tr>\n",
       "    <tr>\n",
       "      <th>889</th>\n",
       "      <td>72.743611</td>\n",
       "      <td>2588.0</td>\n",
       "      <td>84.665252</td>\n",
       "      <td>3197.0</td>\n",
       "      <td>88.732758</td>\n",
       "    </tr>\n",
       "  </tbody>\n",
       "</table>\n",
       "<p>712 rows × 5 columns</p>\n",
       "</div>"
      ]
     },
     "execution_count": 9,
     "metadata": {},
     "output_type": "execute_result"
    }
   ],
   "execution_count": 9
  },
  {
   "metadata": {},
   "cell_type": "markdown",
   "source": [
    "## Modeling"
   ],
   "id": "f307e1131e79aca2"
  },
  {
   "metadata": {
    "ExecuteTime": {
     "end_time": "2024-12-16T14:31:59.035350Z",
     "start_time": "2024-12-16T14:31:58.852321Z"
    }
   },
   "cell_type": "code",
   "source": [
    "from xgboost import XGBRegressor\n",
    "from sklearn.metrics import mean_squared_error, r2_score\n",
    "\n",
    "# List of labels to predict\n",
    "labels = ['mean_arrival_delay_seconds', 'max_arrival_delay_seconds', 'mean_departure_delay_seconds', 'max_departure_delay_seconds', 'on_time_mean_percent']\n",
    "\n",
    "# Train a single model for all labels\n",
    "xgb_regressor = XGBRegressor()\n",
    "xgb_regressor.fit(train_features, y_train[labels])\n",
    "\n",
    "y_pred = xgb_regressor.predict(test_features)\n",
    "\n",
    "mse_scores = {}\n",
    "r2_scores = {}\n",
    "for i, label in enumerate(labels):\n",
    "    mse = mean_squared_error(y_test[label], y_pred[:, i])\n",
    "    mse_scores[label] = mse\n",
    "    print(f\"MSE for {label}: {mse}\")\n",
    "\n",
    "    r2 = r2_score(y_test[label], y_pred[:, i])\n",
    "    r2_scores[label] = r2\n",
    "    print(f\"R squared for {label}: {r2}\")"
   ],
   "id": "8aa55b3e285e3be5",
   "outputs": [
    {
     "name": "stdout",
     "output_type": "stream",
     "text": [
      "MSE for mean_arrival_delay_seconds: 464.8610994551002\n",
      "R squared for mean_arrival_delay_seconds: 0.5890517997740967\n",
      "MSE for max_arrival_delay_seconds: 949110.874890012\n",
      "R squared for max_arrival_delay_seconds: 0.4264691637821365\n",
      "MSE for mean_departure_delay_seconds: 618.0422808488545\n",
      "R squared for mean_departure_delay_seconds: 0.512985609085407\n",
      "MSE for max_departure_delay_seconds: 1184790.772986023\n",
      "R squared for max_departure_delay_seconds: 0.3850478738005957\n",
      "MSE for on_time_mean_percent: 41.830447921323994\n",
      "R squared for on_time_mean_percent: -1.0873246770074068\n"
     ]
    }
   ],
   "execution_count": 35
  },
  {
   "metadata": {
    "ExecuteTime": {
     "end_time": "2024-12-16T14:32:06.529316Z",
     "start_time": "2024-12-16T14:32:06.285546Z"
    }
   },
   "cell_type": "code",
   "source": [
    "# Dictionary to store models and their predictions\n",
    "models = {}\n",
    "predictions = {}\n",
    "mse_scores = {}\n",
    "r2_scores = {}\n",
    "\n",
    "# Train a separate model for each label\n",
    "for label in labels:\n",
    "    xgb_regressor = XGBRegressor()\n",
    "    xgb_regressor.fit(train_features, y_train[label])\n",
    "    models[label] = xgb_regressor\n",
    "\n",
    "    # Predicting target values on the test set\n",
    "    y_pred = xgb_regressor.predict(test_features)\n",
    "    predictions[label] = y_pred\n",
    "\n",
    "    # Calculating Mean Squared Error (MSE) using sklearn\n",
    "    mse = mean_squared_error(y_test[label], y_pred)\n",
    "    mse_scores[label] = mse\n",
    "    print(f\"MSE for {label}: {mse}\")\n",
    "\n",
    "    # Calculating R squared using sklearn\n",
    "    r2 = r2_score(y_test[label], y_pred)\n",
    "    r2_scores[label] = r2\n",
    "    print(f\"R squared for {label}: {r2}\")"
   ],
   "id": "ace05becb2c00afa",
   "outputs": [
    {
     "name": "stdout",
     "output_type": "stream",
     "text": [
      "MSE for mean_arrival_delay_seconds: 496.1851798178105\n",
      "R squared for mean_arrival_delay_seconds: 0.5613605723001776\n",
      "MSE for max_arrival_delay_seconds: 1141416.1171761267\n",
      "R squared for max_arrival_delay_seconds: 0.31026252308779656\n",
      "MSE for mean_departure_delay_seconds: 476.81751556582634\n",
      "R squared for mean_departure_delay_seconds: 0.6242700554373718\n",
      "MSE for max_departure_delay_seconds: 1316784.5048891818\n",
      "R squared for max_departure_delay_seconds: 0.3165380339794518\n",
      "MSE for on_time_mean_percent: 62.75470678125364\n",
      "R squared for on_time_mean_percent: -2.1314378538150915\n"
     ]
    }
   ],
   "execution_count": 36
  },
  {
   "metadata": {},
   "cell_type": "markdown",
   "source": [
    "## Evaluation"
   ],
   "id": "53842558d9d83c43"
  },
  {
   "metadata": {
    "ExecuteTime": {
     "end_time": "2024-12-16T14:33:16.082081Z",
     "start_time": "2024-12-16T14:33:16.074066Z"
    }
   },
   "cell_type": "code",
   "source": [
    "df = y_test\n",
    "df['date'] = X_test['date']\n",
    "df = df.sort_values(by=['date'])\n",
    "df.head(5)"
   ],
   "id": "808ce36c03d2f122",
   "outputs": [
    {
     "data": {
      "text/plain": [
       "     mean_arrival_delay_seconds  max_arrival_delay_seconds  \\\n",
       "496                  140.999132                     2500.0   \n",
       "529                  158.014187                     2748.0   \n",
       "1                     40.185331                     1900.0   \n",
       "308                   80.297276                      897.0   \n",
       "309                  210.808691                     1299.0   \n",
       "\n",
       "     mean_departure_delay_seconds  max_departure_delay_seconds  \\\n",
       "496                    156.180651                       2514.0   \n",
       "529                    171.226525                       2748.0   \n",
       "1                       56.062272                       2356.0   \n",
       "308                     92.743845                        915.0   \n",
       "309                    288.066845                       1904.0   \n",
       "\n",
       "     on_time_mean_percent  predicted_pm25                       date  \\\n",
       "496             81.651511       82.891579  2023-02-06 07:00:00+00:00   \n",
       "529             80.292035       85.660027  2023-02-06 18:00:00+00:00   \n",
       "1               88.123916       87.127457  2023-02-06 23:00:00+00:00   \n",
       "308             79.515061       86.392242  2024-09-01 01:00:00+00:00   \n",
       "309             66.224676       48.317932  2024-09-30 22:00:00+00:00   \n",
       "\n",
       "     predicted  \n",
       "496  82.891579  \n",
       "529  85.660027  \n",
       "1    87.127457  \n",
       "308  86.392242  \n",
       "309  48.317932  "
      ],
      "text/html": [
       "<div>\n",
       "<style scoped>\n",
       "    .dataframe tbody tr th:only-of-type {\n",
       "        vertical-align: middle;\n",
       "    }\n",
       "\n",
       "    .dataframe tbody tr th {\n",
       "        vertical-align: top;\n",
       "    }\n",
       "\n",
       "    .dataframe thead th {\n",
       "        text-align: right;\n",
       "    }\n",
       "</style>\n",
       "<table border=\"1\" class=\"dataframe\">\n",
       "  <thead>\n",
       "    <tr style=\"text-align: right;\">\n",
       "      <th></th>\n",
       "      <th>mean_arrival_delay_seconds</th>\n",
       "      <th>max_arrival_delay_seconds</th>\n",
       "      <th>mean_departure_delay_seconds</th>\n",
       "      <th>max_departure_delay_seconds</th>\n",
       "      <th>on_time_mean_percent</th>\n",
       "      <th>predicted_pm25</th>\n",
       "      <th>date</th>\n",
       "      <th>predicted</th>\n",
       "    </tr>\n",
       "  </thead>\n",
       "  <tbody>\n",
       "    <tr>\n",
       "      <th>496</th>\n",
       "      <td>140.999132</td>\n",
       "      <td>2500.0</td>\n",
       "      <td>156.180651</td>\n",
       "      <td>2514.0</td>\n",
       "      <td>81.651511</td>\n",
       "      <td>82.891579</td>\n",
       "      <td>2023-02-06 07:00:00+00:00</td>\n",
       "      <td>82.891579</td>\n",
       "    </tr>\n",
       "    <tr>\n",
       "      <th>529</th>\n",
       "      <td>158.014187</td>\n",
       "      <td>2748.0</td>\n",
       "      <td>171.226525</td>\n",
       "      <td>2748.0</td>\n",
       "      <td>80.292035</td>\n",
       "      <td>85.660027</td>\n",
       "      <td>2023-02-06 18:00:00+00:00</td>\n",
       "      <td>85.660027</td>\n",
       "    </tr>\n",
       "    <tr>\n",
       "      <th>1</th>\n",
       "      <td>40.185331</td>\n",
       "      <td>1900.0</td>\n",
       "      <td>56.062272</td>\n",
       "      <td>2356.0</td>\n",
       "      <td>88.123916</td>\n",
       "      <td>87.127457</td>\n",
       "      <td>2023-02-06 23:00:00+00:00</td>\n",
       "      <td>87.127457</td>\n",
       "    </tr>\n",
       "    <tr>\n",
       "      <th>308</th>\n",
       "      <td>80.297276</td>\n",
       "      <td>897.0</td>\n",
       "      <td>92.743845</td>\n",
       "      <td>915.0</td>\n",
       "      <td>79.515061</td>\n",
       "      <td>86.392242</td>\n",
       "      <td>2024-09-01 01:00:00+00:00</td>\n",
       "      <td>86.392242</td>\n",
       "    </tr>\n",
       "    <tr>\n",
       "      <th>309</th>\n",
       "      <td>210.808691</td>\n",
       "      <td>1299.0</td>\n",
       "      <td>288.066845</td>\n",
       "      <td>1904.0</td>\n",
       "      <td>66.224676</td>\n",
       "      <td>48.317932</td>\n",
       "      <td>2024-09-30 22:00:00+00:00</td>\n",
       "      <td>48.317932</td>\n",
       "    </tr>\n",
       "  </tbody>\n",
       "</table>\n",
       "</div>"
      ]
     },
     "execution_count": 39,
     "metadata": {},
     "output_type": "execute_result"
    }
   ],
   "execution_count": 39
  },
  {
   "metadata": {
    "ExecuteTime": {
     "end_time": "2024-12-16T14:38:30.355604Z",
     "start_time": "2024-12-16T14:38:30.269508Z"
    }
   },
   "cell_type": "code",
   "source": [
    "from matplotlib import pyplot as plt\n",
    "from xgboost import plot_importance\n",
    "\n",
    "plot_importance(xgb_regressor, max_num_features=8)\n",
    "plt.show()"
   ],
   "id": "4d1c9cb72b9518ed",
   "outputs": [
    {
     "data": {
      "text/plain": [
       "<Figure size 640x480 with 1 Axes>"
      ],
      "image/png": "[encoded data removed]"
     },
     "metadata": {},
     "output_type": "display_data"
    }
   ],
   "execution_count": 44
  },
  {
   "metadata": {},
   "cell_type": "markdown",
   "source": [
    "## Register Model"
   ],
   "id": "53955dde3596af27"
  },
  {
   "metadata": {
    "ExecuteTime": {
     "end_time": "2024-12-16T14:33:33.224738Z",
     "start_time": "2024-12-16T14:33:33.211847Z"
    }
   },
   "cell_type": "code",
   "source": [
    "from hsml.schema import Schema\n",
    "from hsml.model_schema import ModelSchema\n",
    "\n",
    "MODEL_DIR = \"models/delays\"\n",
    "\n",
    "if not os.path.exists(MODEL_DIR):\n",
    "    os.makedirs(MODEL_DIR)\n",
    "\n",
    "input_schema = Schema(X_train)\n",
    "output_schema = Schema(y_train)\n",
    "\n",
    "model_schema = ModelSchema(input_schema=input_schema, output_schema=output_schema)\n",
    "schema_dict = model_schema.to_dict()\n",
    "\n",
    "xgb_regressor.save_model(MODEL_DIR + \"/model.json\")\n",
    "res_dict = {\n",
    "    \"MSE\": str(mse),\n",
    "    \"R squared\": str(r2),\n",
    "}"
   ],
   "id": "bace297ba8d3d2a7",
   "outputs": [],
   "execution_count": 41
  },
  {
   "metadata": {
    "ExecuteTime": {
     "start_time": "2024-12-16T14:39:02.870834Z"
    }
   },
   "cell_type": "code",
   "source": [
    "mr = project.get_model_registry()\n",
    "\n",
    "delays_model = mr.python.create_model(\n",
    "    name=\"delays_xgboost_model\",\n",
    "    metrics= res_dict,\n",
    "    model_schema=model_schema,\n",
    "    input_example=X_test.sample().values,\n",
    "    description=\"Delays predictor\",\n",
    ")\n",
    "\n",
    "delays_model.save(MODEL_DIR + \"/model.json\")"
   ],
   "id": "a119ca940b316bf0",
   "outputs": [
    {
     "data": {
      "text/plain": [
       "  0%|          | 0/6 [00:00<?, ?it/s]"
      ],
      "application/vnd.jupyter.widget-view+json": {
       "version_major": 2,
       "version_minor": 0,
       "model_id": "d816be7190274eeeb48022e7c535b80b"
      }
     },
     "metadata": {},
     "output_type": "display_data"
    },
    {
     "data": {
      "text/plain": [
       "Uploading: 0.000%|          | 0/373706 elapsed<00:00 remaining<?"
      ],
      "application/vnd.jupyter.widget-view+json": {
       "version_major": 2,
       "version_minor": 0,
       "model_id": "b87b86731cab4710853f7faeb7c295f7"
      }
     },
     "metadata": {},
     "output_type": "display_data"
    }
   ],
   "execution_count": null
  }
 ],
 "metadata": {
  "kernelspec": {
   "display_name": "Python 3",
   "language": "python",
   "name": "python3"
  },
  "language_info": {
   "codemirror_mode": {
    "name": "ipython",
    "version": 2
   },
   "file_extension": ".py",
   "mimetype": "text/x-python",
   "name": "python",
   "nbconvert_exporter": "python",
   "pygments_lexer": "ipython2",
   "version": "2.7.6"
  }
 },
 "nbformat": 4,
 "nbformat_minor": 5
}
